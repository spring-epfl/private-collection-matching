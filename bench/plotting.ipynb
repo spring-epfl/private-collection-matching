{
 "cells": [
  {
   "cell_type": "markdown",
   "metadata": {},
   "source": [
    "# Plotting comparison plots Homo-PSI"
   ]
  },
  {
   "cell_type": "code",
   "execution_count": null,
   "metadata": {},
   "outputs": [],
   "source": [
    "%load_ext autoreload\n",
    "%autoreload 2"
   ]
  },
  {
   "cell_type": "code",
   "execution_count": null,
   "metadata": {},
   "outputs": [],
   "source": [
    "import pandas as pd\n",
    "import seaborn as sns\n",
    "import matplotlib.pyplot as plt\n",
    "\n",
    "from data_cleaner import load_full_df, create_individual_dfs"
   ]
  },
  {
   "cell_type": "markdown",
   "metadata": {},
   "source": [
    "### Config style"
   ]
  },
  {
   "cell_type": "code",
   "execution_count": null,
   "metadata": {},
   "outputs": [],
   "source": [
    "sns.set_style()\n",
    "plt.rc('text', usetex=True)\n",
    "plt.rc('font', family='serif', size=15)\n",
    "plt.rc('figure', figsize=(5.5,4))\n",
    "plt.rc('text.latex', preamble=r'\\usepackage{mathptmx}')\n",
    "\n",
    "FIG_DIR = ''"
   ]
  },
  {
   "cell_type": "markdown",
   "metadata": {},
   "source": [
    "### Load data"
   ]
  },
  {
   "cell_type": "code",
   "execution_count": null,
   "metadata": {},
   "outputs": [],
   "source": [
    "create_individual_dfs('../data/raw/', '../data/agg/')"
   ]
  },
  {
   "cell_type": "code",
   "execution_count": null,
   "metadata": {},
   "outputs": [],
   "source": [
    "data = load_full_df('../data/')\n",
    "data = data.query('SetNum > 4')\n",
    "\n",
    "# Add artificial network delay to our X-MS and CA-MS data\n",
    "adj_indx = data.query('name in [\"CA-MS\", \"X-MS\"]').index\n",
    "data.loc[adj_indx,'Latency'] += 0.1 # add 1 rtt \n",
    "data.loc[adj_indx,'Latency'] += data.loc[adj_indx,'com_MiB'] / (100/8)# add transfer cost\n",
    "\n",
    "# data"
   ]
  },
  {
   "cell_type": "markdown",
   "metadata": {},
   "source": [
    "## Plot base"
   ]
  },
  {
   "cell_type": "code",
   "execution_count": null,
   "metadata": {},
   "outputs": [],
   "source": [
    "main_plot_config = {\n",
    "    'CA-MS':{\n",
    "        'label':\"CA-Agg $(P_{8k})$\",\n",
    "        'color':'#33a02c',\n",
    "        'fmt':'*-'\n",
    "    },\n",
    "    'X-MS':{\n",
    "        'label':\"X-Agg $(P_{32k})$\",\n",
    "        'color':'#b2df8a',\n",
    "        'fmt':'o:'\n",
    "    },\n",
    "    'EMP-CA':{\n",
    "        'label':\"CA-EMP\",\n",
    "        'color':'#1f78b4',\n",
    "        'fmt':'*-'\n",
    "    },\n",
    "    'EMP-X':{\n",
    "        'label':\"X-EMP\",\n",
    "        'color':'#a6cee3',\n",
    "        'fmt':'o:'\n",
    "    },\n",
    "    'Circuit-PSI':{\n",
    "        'label':\"Circuit-PSI\",\n",
    "        'color':'#e31a1c',\n",
    "        'fmt':'x-.'\n",
    "    },\n",
    "}\n",
    "spot_plot_config = {\n",
    "    'CA-MS':{\n",
    "        'label':\"CA-Agg $(P_{8k})$\",\n",
    "        'color':'#33a02c',\n",
    "        'fmt':'*-'\n",
    "    },\n",
    "    'X-MS':{\n",
    "        'label':\"X-Agg $(P_{32k})$\",\n",
    "        'color':'#b2df8a',\n",
    "        'fmt':'o:'\n",
    "    },\n",
    "    'SpOT':{\n",
    "        'label':\"SpOT\",\n",
    "        'color':'#e31a1c',\n",
    "        'fmt':'x-.'\n",
    "    },\n",
    "    # \n",
    "}"
   ]
  },
  {
   "cell_type": "code",
   "execution_count": null,
   "metadata": {},
   "outputs": [],
   "source": [
    "def base_plot(\n",
    "    ax:plt.Axes,\n",
    "    df: pd.DataFrame,\n",
    "    target_y:str,\n",
    "    y_label:str,\n",
    "    config: dict[str:str],\n",
    "    ):\n",
    "    ax.set_yscale('log')\n",
    "    ax.set_xscale('log')\n",
    "    ax.set_xlabel('\\#Documents')\n",
    "    ax.set_ylabel(y_label)\n",
    "    major_ticks = [8, 32, 128, 512, 2048, 8192]\n",
    "    ax.set_xticks(major_ticks, major_ticks)\n",
    "    minor_ticks = [16, 64, 256, 1024, 4096]\n",
    "    ax.xaxis.set_minor_locator(plt.FixedLocator(minor_ticks))\n",
    "    ax.xaxis.set_minor_formatter(plt.NullFormatter())\n",
    "\n",
    "    df = df.groupby(['SetNum', 'name']).agg(['mean', 'sem'])\n",
    "    df = df.reset_index()\n",
    "\n",
    "    for name in config:\n",
    "        # print(plot_config[name])\n",
    "        df_fil = df[df['name'] == name]\n",
    "        x , y, yerr = df_fil[\"SetNum\"], df_fil[target_y,'mean'], df_fil[target_y,'sem']\n",
    "        ax.errorbar(x, y, yerr=yerr, linewidth=2, **config[name])\n",
    "\n",
    "    \n"
   ]
  },
  {
   "cell_type": "markdown",
   "metadata": {},
   "source": [
    "### Latency"
   ]
  },
  {
   "cell_type": "code",
   "execution_count": null,
   "metadata": {},
   "outputs": [],
   "source": [
    "fig, ax = plt.subplots()\n",
    "base_plot(ax, data, 'Latency', 'Latency (s)', main_plot_config)\n",
    "\n",
    "plt.savefig(FIG_DIR+\"doc_latency.pdf\", bbox_inches='tight', pad_inches=0.01)\n",
    "plt.show() "
   ]
  },
  {
   "cell_type": "markdown",
   "metadata": {},
   "source": [
    "### Client computation"
   ]
  },
  {
   "cell_type": "code",
   "execution_count": null,
   "metadata": {},
   "outputs": [],
   "source": [
    "fig, ax = plt.subplots()\n",
    "ylabel = \"Client's computation cost (s)\"\n",
    "base_plot(ax, data, 'client_comp', ylabel, main_plot_config)\n",
    "\n",
    "plt.savefig(FIG_DIR+\"doc_client.pdf\", bbox_inches='tight', pad_inches=0.01)\n",
    "plt.show() "
   ]
  },
  {
   "cell_type": "markdown",
   "metadata": {},
   "source": [
    "### Communication"
   ]
  },
  {
   "cell_type": "code",
   "execution_count": null,
   "metadata": {},
   "outputs": [],
   "source": [
    "fig, ax = plt.subplots()\n",
    "ylabel = \"Transfer cost (MiB)\"\n",
    "base_plot(ax, data, 'com_MiB', ylabel, main_plot_config)\n",
    "\n",
    "plt.savefig(FIG_DIR+\"doc_com.pdf\", bbox_inches='tight', pad_inches=0.01)\n",
    "plt.show() "
   ]
  },
  {
   "cell_type": "markdown",
   "metadata": {},
   "source": [
    "### Server cost"
   ]
  },
  {
   "cell_type": "code",
   "execution_count": null,
   "metadata": {},
   "outputs": [],
   "source": [
    "fig, ax = plt.subplots()\n",
    "ylabel = \"Server's computation cost (s)\"\n",
    "base_plot(ax, data, 'server_comp', ylabel, main_plot_config)\n",
    "ax.legend(\n",
    "    bbox_to_anchor=(0.002, 0.92, 0.9, .102), \n",
    "    loc='lower left',\n",
    "    ncol=3, \n",
    "    mode=\"expand\", \n",
    "    borderaxespad=0., \n",
    "    bbox_transform=fig.transFigure,\n",
    ")\n",
    "plt.savefig(FIG_DIR+\"doc_server.pdf\", bbox_inches='tight', pad_inches=0.01)\n",
    "plt.show() "
   ]
  },
  {
   "cell_type": "markdown",
   "metadata": {},
   "source": [
    "## triple plot "
   ]
  },
  {
   "cell_type": "code",
   "execution_count": null,
   "metadata": {},
   "outputs": [],
   "source": [
    "fig, axes = plt.subplots(1, 3, figsize=(18,3.9))\n",
    "axes = axes.flat\n",
    "\n",
    "base_plot(axes[0], data, 'Latency', 'Latency (s)', main_plot_config)\n",
    "base_plot(axes[2], data, 'com_MiB', \"Transfer cost (MiB)\", main_plot_config)\n",
    "base_plot(axes[1], data, 'client_comp', \"Client's computation cost (s)\", main_plot_config)\n",
    "\n",
    "handles, labels = axes[0].get_legend_handles_labels()\n",
    "order = [0,2,1,3,4]\n",
    "new_handles, new_labels = [handles[idx] for idx in order],[labels[idx] for idx in order]\n",
    "\n",
    "axes[0].legend(\n",
    "               # handles=new_handles, labels=new_labels,\n",
    "               bbox_to_anchor=(0.2, 0.92, 0.60, .102), \n",
    "               loc='lower left',\n",
    "               ncol=5, \n",
    "               mode=\"expand\", \n",
    "               borderaxespad=0., \n",
    "               bbox_transform=fig.transFigure,\n",
    "              )\n",
    "\n",
    "plt.savefig(FIG_DIR+\"doc_search.pdf\", bbox_inches='tight', pad_inches=0.01)\n",
    "plt.show() "
   ]
  },
  {
   "cell_type": "markdown",
   "metadata": {},
   "source": [
    "## SpOT plot"
   ]
  },
  {
   "cell_type": "code",
   "execution_count": null,
   "metadata": {},
   "outputs": [],
   "source": [
    "fig, axes = plt.subplots(2, 2, figsize=(12, 8))\n",
    "\n",
    "base_plot(axes[0][0], data, 'Latency', 'Latency (s)', spot_plot_config)\n",
    "base_plot(axes[0][1], data, 'client_comp', \"Client's computation cost (s)\", spot_plot_config)\n",
    "base_plot(axes[1][1], data, 'server_comp', \"Server's computation cost (s)\", spot_plot_config)\n",
    "base_plot(axes[1][0], data, 'com_MiB', \"Transfer cost (MiB)\", spot_plot_config)\n",
    "\n",
    "axes[0][0].legend(\n",
    "               bbox_to_anchor=(0.25, 0.90, 0.50, .102), \n",
    "               loc='lower left',\n",
    "               ncol=3, \n",
    "               mode=\"expand\", \n",
    "               borderaxespad=0., \n",
    "               bbox_transform=fig.transFigure,\n",
    "              )\n",
    "\n",
    "plt.savefig(FIG_DIR+\"doc_spot.pdf\", bbox_inches='tight', pad_inches=0.01)\n",
    "plt.show() "
   ]
  },
  {
   "cell_type": "markdown",
   "metadata": {},
   "source": [
    "## getting improvement factors"
   ]
  },
  {
   "cell_type": "code",
   "execution_count": null,
   "metadata": {},
   "outputs": [],
   "source": [
    "data.query('SetNum == 1024').groupby(['SetNum', 'name']).agg(['mean', 'sem'])"
   ]
  },
  {
   "cell_type": "code",
   "execution_count": null,
   "metadata": {},
   "outputs": [],
   "source": []
  }
 ],
 "metadata": {
  "interpreter": {
   "hash": "a258479db9a216a1e5359f9d9ce8bd584a306e691f0c5c49d15f7eb33be1a9c0"
  },
  "kernelspec": {
   "display_name": "Python 3.9.12 ('venv': venv)",
   "language": "python",
   "name": "python3"
  },
  "language_info": {
   "codemirror_mode": {
    "name": "ipython",
    "version": 3
   },
   "file_extension": ".py",
   "mimetype": "text/x-python",
   "name": "python",
   "nbconvert_exporter": "python",
   "pygments_lexer": "ipython3",
   "version": "3.9.12"
  },
  "orig_nbformat": 4
 },
 "nbformat": 4,
 "nbformat_minor": 2
}
